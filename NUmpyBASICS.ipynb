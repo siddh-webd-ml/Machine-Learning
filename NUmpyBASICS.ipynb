{
  "nbformat": 4,
  "nbformat_minor": 0,
  "metadata": {
    "colab": {
      "provenance": [],
      "authorship_tag": "ABX9TyP0iK0taiC76O+c1UvLa1Qg",
      "include_colab_link": true
    },
    "kernelspec": {
      "name": "python3",
      "display_name": "Python 3"
    },
    "language_info": {
      "name": "python"
    }
  },
  "cells": [
    {
      "cell_type": "markdown",
      "metadata": {
        "id": "view-in-github",
        "colab_type": "text"
      },
      "source": [
        "<a href=\"https://colab.research.google.com/github/siddh-webd-ml/Machine-Learning/blob/main/NUmpyBASICS.ipynb\" target=\"_parent\"><img src=\"https://colab.research.google.com/assets/colab-badge.svg\" alt=\"Open In Colab\"/></a>"
      ]
    },
    {
      "cell_type": "code",
      "execution_count": 1,
      "metadata": {
        "colab": {
          "base_uri": "https://localhost:8080/"
        },
        "id": "WXrImE50zMru",
        "outputId": "721bec0f-f363-4980-b98a-ff30a7451f4b"
      },
      "outputs": [
        {
          "output_type": "stream",
          "name": "stdout",
          "text": [
            "[1 2 3]\n",
            "[30 40 50]\n",
            "[[1 2 3]\n",
            " [4 5 6]\n",
            " [4 5 6]]\n",
            "[10, 20, 30, 40]\n",
            "[31 42 53]\n",
            "[1, 2, 3, 30, 40, 50]\n",
            "[31, 42, 53]\n",
            "[0 1 2 3 4 5 6 7 8 9]\n",
            "[[0. 1.]\n",
            " [2. 3.]\n",
            " [4. 5.]\n",
            " [6. 7.]\n",
            " [8. 9.]]\n",
            "[[ 0.  1.  2.]\n",
            " [ 3.  4.  5.]\n",
            " [ 6.  7.  8.]\n",
            " [ 9. 10. 11.]]\n",
            "[0. 1.]\n",
            "[2. 3.]\n",
            "[4. 5.]\n",
            "[6. 7.]\n",
            "[8. 9.]\n",
            "0.0\n",
            "1.0\n",
            "2.0\n",
            "3.0\n",
            "4.0\n",
            "5.0\n",
            "6.0\n",
            "7.0\n",
            "8.0\n",
            "9.0\n",
            "[[False False]\n",
            " [False False]\n",
            " [False False]\n",
            " [ True  True]\n",
            " [ True  True]]\n"
          ]
        }
      ],
      "source": [
        "import numpy as np\n",
        "\n",
        "array_1 = np.array([1,2,3])\n",
        "print(array_1)\n",
        "array_2=np.array((30,40,50))\n",
        "print(array_2)\n",
        "\n",
        "array_3 = np.array([[1,2,3],[4,5,6],[4,5,6]])\n",
        "print(array_3)\n",
        "\n",
        "np.array([1,2,3,4],dtype=\"complex\")\n",
        "np.array([1,2,3,4],dtype=\"float\")\n",
        "list_1=[10,20,30,40]\n",
        "print(list_1)\n",
        "\n",
        "#What is the major diff between numpy array and python lists\n",
        "\n",
        "array_1\n",
        "array_2\n",
        "\n",
        "\n",
        "print(array_1+array_2)\n",
        "\n",
        "list_1=[1,2,3]\n",
        "list_2=[30,40,50]\n",
        "\n",
        "print(list_1+list_2)\n",
        "\n",
        "list_ans=[]\n",
        "for i,j in zip(list_1,list_2):\n",
        "  list_ans.append(i+j)\n",
        "print(list_ans)\n",
        "\n",
        "array_1.ndim\n",
        "\n",
        "array_3.shape\n",
        "\n",
        "array_1.size\n",
        "\n",
        "a1=np.arange(10)\n",
        "print(a1)\n",
        "\n",
        "\n",
        "a2=np.arange(10,dtype=float).reshape(5,2)\n",
        "print(a2)\n",
        "\n",
        "a3=np.arange(12,dtype=float).reshape(4,3)\n",
        "print(a3)\n",
        "\n",
        "a3.astype(np.int64)\n",
        "\n",
        "for i in a2:\n",
        "  print(i)\n",
        "\n",
        "for i in np.nditer(a2):\n",
        "  print(i)\n",
        "\n",
        "print(a2>5)"
      ]
    },
    {
      "cell_type": "code",
      "source": [],
      "metadata": {
        "id": "IvtmO4la12X5"
      },
      "execution_count": null,
      "outputs": []
    }
  ]
}